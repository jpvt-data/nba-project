{
 "cells": [
  {
   "cell_type": "markdown",
   "id": "8a0931d1",
   "metadata": {},
   "source": [
    "## Lister les saisons NBA disponibles"
   ]
  },
  {
   "cell_type": "code",
   "execution_count": null,
   "id": "3649f2e2",
   "metadata": {
    "vscode": {
     "languageId": "plaintext"
    }
   },
   "outputs": [],
   "source": [
    "import requests\n",
    "\n",
    "url = \"https://api-nba-v1.p.rapidapi.com/seasons\"\n",
    "en_tetes = {\n",
    "    \"X-RapidAPI-Key\": \"TA_CLÉ_ICI\",\n",
    "    \"X-RapidAPI-Host\": \"api-nba-v1.p.rapidapi.com\"\n",
    "}\n",
    "\n",
    "reponse = requests.get(url, headers=en_tetes)\n",
    "saisons = reponse.json()\n",
    "\n",
    "print(\"Saisons disponibles :\", saisons)"
   ]
  },
  {
   "cell_type": "markdown",
   "id": "dd434210",
   "metadata": {},
   "source": [
    "## Récupérer la liste des équipes NBA"
   ]
  },
  {
   "cell_type": "code",
   "execution_count": null,
   "id": "2a926f4d",
   "metadata": {
    "vscode": {
     "languageId": "plaintext"
    }
   },
   "outputs": [],
   "source": [
    "url = \"https://api-nba-v1.p.rapidapi.com/teams\"\n",
    "\n",
    "reponse = requests.get(url, headers=en_tetes)\n",
    "equipes = reponse.json()\n",
    "\n",
    "for equipe in equipes['response']:\n",
    "    print(f\"{equipe['name']} ({equipe['nickname']}) - Logo : {equipe['logo']}\")\n"
   ]
  },
  {
   "cell_type": "markdown",
   "id": "ce4dd7e0",
   "metadata": {},
   "source": [
    "## Récupérer tous les joueurs d’une équipe pour une saison donnée"
   ]
  },
  {
   "cell_type": "code",
   "execution_count": null,
   "id": "d4924639",
   "metadata": {
    "vscode": {
     "languageId": "plaintext"
    }
   },
   "outputs": [],
   "source": [
    "url = \"https://api-nba-v1.p.rapidapi.com/players\"\n",
    "params = {\n",
    "    \"team\": \"1\",   # ID équipe (ex : 1 = Atlanta Hawks)\n",
    "    \"season\": \"2023\"\n",
    "}\n",
    "\n",
    "reponse = requests.get(url, headers=en_tetes, params=params)\n",
    "joueurs = reponse.json()\n",
    "\n",
    "for joueur in joueurs['response']:\n",
    "    print(f\"{joueur['firstname']} {joueur['lastname']} - ID : {joueur['id']}\")\n"
   ]
  },
  {
   "cell_type": "markdown",
   "id": "4912caf0",
   "metadata": {},
   "source": [
    "## Récupérer les détails d’un joueur (stats, bio)"
   ]
  },
  {
   "cell_type": "code",
   "execution_count": null,
   "id": "a0ae9d1e",
   "metadata": {
    "vscode": {
     "languageId": "plaintext"
    }
   },
   "outputs": [],
   "source": [
    "url = \"https://api-nba-v1.p.rapidapi.com/players\"\n",
    "params = {\"id\": \"237\"}  # Exemple : LeBron James (à confirmer)\n",
    "\n",
    "reponse = requests.get(url, headers=en_tetes, params=params)\n",
    "infos = reponse.json()\n",
    "\n",
    "print(infos['response'][0])"
   ]
  },
  {
   "cell_type": "markdown",
   "id": "0a332b13",
   "metadata": {},
   "source": [
    "## Récupérer le calendrier des matchs d’une équipe"
   ]
  },
  {
   "cell_type": "code",
   "execution_count": null,
   "id": "cfbb5595",
   "metadata": {
    "vscode": {
     "languageId": "plaintext"
    }
   },
   "outputs": [],
   "source": [
    "url = \"https://api-nba-v1.p.rapidapi.com/games\"\n",
    "params = {\n",
    "    \"season\": \"2023\",\n",
    "    \"team\": \"1\"  # Atlanta Hawks\n",
    "}\n",
    "\n",
    "reponse = requests.get(url, headers=en_tetes, params=params)\n",
    "matchs = reponse.json()\n",
    "\n",
    "for match in matchs['response'][:5]:  # on affiche les 5 premiers\n",
    "    print(f\"{match['teams']['home']['name']} vs {match['teams']['visitors']['name']} - Date : {match['date']}\")\n"
   ]
  },
  {
   "cell_type": "markdown",
   "id": "065837c6",
   "metadata": {},
   "source": [
    "## Récupérer les résultats des matchs joués"
   ]
  },
  {
   "cell_type": "code",
   "execution_count": null,
   "id": "a7471210",
   "metadata": {
    "vscode": {
     "languageId": "plaintext"
    }
   },
   "outputs": [],
   "source": [
    "url = \"https://api-nba-v1.p.rapidapi.com/games\"\n",
    "params = {\n",
    "    \"season\": \"2023\",\n",
    "    \"date\": \"2024-04-10\"  # exemple de date passée\n",
    "}\n",
    "\n",
    "reponse = requests.get(url, headers=en_tetes, params=params)\n",
    "resultats = reponse.json()\n",
    "\n",
    "for match in resultats['response']:\n",
    "    home = match['teams']['home']\n",
    "    away = match['teams']['visitors']\n",
    "    print(f\"{home['name']} {match['scores']['home']['points']} - {away['name']} {match['scores']['visitors']['points']}\")\n"
   ]
  },
  {
   "cell_type": "markdown",
   "id": "843609c0",
   "metadata": {},
   "source": [
    "## Classement de la Conférence Est/Ouest"
   ]
  },
  {
   "cell_type": "code",
   "execution_count": null,
   "id": "df36a353",
   "metadata": {
    "vscode": {
     "languageId": "plaintext"
    }
   },
   "outputs": [],
   "source": [
    "url = \"https://api-nba-v1.p.rapidapi.com/standings\"\n",
    "params = {\n",
    "    \"season\": \"2023\",\n",
    "    \"league\": \"standard\"  # standard = NBA\n",
    "}\n",
    "\n",
    "reponse = requests.get(url, headers=en_tetes, params=params)\n",
    "classement = reponse.json()\n",
    "\n",
    "for team in classement['response']:\n",
    "    print(f\"{team['conference']['name']} - {team['team']['name']} : {team['win']['total']}V / {team['loss']['total']}D\")\n"
   ]
  }
 ],
 "metadata": {
  "language_info": {
   "name": "python"
  }
 },
 "nbformat": 4,
 "nbformat_minor": 5
}
